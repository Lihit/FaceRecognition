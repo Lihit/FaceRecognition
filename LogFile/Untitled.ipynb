{
 "cells": [
  {
   "cell_type": "code",
   "execution_count": 10,
   "metadata": {
    "collapsed": false
   },
   "outputs": [
    {
     "name": "stdout",
     "output_type": "stream",
     "text": [
      "testing_log1.log  training_log1.log  Untitled.ipynb\t  validation_log.log\r\n",
      "testing_log.log   training_log.log   validation_log1.log\r\n"
     ]
    }
   ],
   "source": [
    "!ls"
   ]
  },
  {
   "cell_type": "code",
   "execution_count": 37,
   "metadata": {
    "collapsed": false,
    "scrolled": true
   },
   "outputs": [
    {
     "name": "stdout",
     "output_type": "stream",
     "text": [
      "2017-07-18 09:26:07    step:3990   accuracy:0.72    loss:0.914025\r\n",
      "2017-07-18 09:26:26    step:3991   accuracy:0.76    loss:0.835249\r\n",
      "2017-07-18 09:26:44    step:3992   accuracy:0.81    loss:0.762327\r\n",
      "2017-07-18 09:27:03    step:3993   accuracy:0.71    loss:1.06863\r\n",
      "2017-07-18 09:27:22    step:3994   accuracy:0.78    loss:0.936877\r\n",
      "2017-07-18 09:27:42    step:3995   accuracy:0.83    loss:0.61882\r\n",
      "2017-07-18 09:28:00    step:3996   accuracy:0.78    loss:0.866821\r\n",
      "2017-07-18 09:28:20    step:3997   accuracy:0.77    loss:0.84486\r\n",
      "2017-07-18 09:28:38    step:3998   accuracy:0.83    loss:0.644278\r\n",
      "2017-07-18 09:28:58    step:3999   accuracy:0.77    loss:0.851729\r\n"
     ]
    }
   ],
   "source": [
    "!cat training_log1.log | tail -n 10"
   ]
  },
  {
   "cell_type": "code",
   "execution_count": 39,
   "metadata": {
    "collapsed": false,
    "scrolled": false
   },
   "outputs": [
    {
     "name": "stdout",
     "output_type": "stream",
     "text": [
      "2017-07-18 00:41:14    step:0   accuracy:0.0    loss:5.93044\r\n",
      "2017-07-18 00:42:53    step:100   accuracy:0.0    loss:5.91824\r\n",
      "2017-07-18 00:44:55    step:200   accuracy:0.01    loss:5.82006\r\n",
      "2017-07-18 00:47:32    step:300   accuracy:0.01    loss:5.58619\r\n",
      "2017-07-18 00:50:44    step:400   accuracy:0.05    loss:5.22205\r\n",
      "2017-07-18 00:54:27    step:500   accuracy:0.06    loss:4.93438\r\n",
      "2017-07-18 00:58:46    step:600   accuracy:0.07    loss:4.72078\r\n",
      "2017-07-18 01:03:40    step:700   accuracy:0.18    loss:4.14248\r\n",
      "2017-07-18 01:09:11    step:800   accuracy:0.13    loss:4.17308\r\n",
      "2017-07-18 01:15:13    step:900   accuracy:0.18    loss:3.71021\r\n",
      "2017-07-18 01:21:53    step:1000   accuracy:0.24    loss:3.59735\r\n",
      "2017-07-18 01:29:05    step:1100   accuracy:0.24    loss:3.49094\r\n",
      "2017-07-18 01:36:54    step:1200   accuracy:0.26    loss:3.19162\r\n",
      "2017-07-18 01:45:14    step:1300   accuracy:0.36    loss:2.68743\r\n",
      "2017-07-18 01:54:08    step:1400   accuracy:0.36    loss:2.8483\r\n",
      "2017-07-18 02:03:42    step:1500   accuracy:0.47    loss:2.03449\r\n",
      "2017-07-18 02:13:46    step:1600   accuracy:0.45    loss:2.04236\r\n",
      "2017-07-18 02:24:23    step:1700   accuracy:0.51    loss:2.17101\r\n",
      "2017-07-18 02:35:39    step:1800   accuracy:0.54    loss:1.89089\r\n",
      "2017-07-18 02:47:25    step:1900   accuracy:0.62    loss:1.72634\r\n",
      "2017-07-18 02:59:48    step:2000   accuracy:0.64    loss:1.49628\r\n",
      "2017-07-18 03:17:11    step:2100   accuracy:0.6    loss:1.72835\r\n",
      "2017-07-18 03:30:46    step:2200   accuracy:0.53    loss:1.98748\r\n",
      "2017-07-18 03:44:57    step:2300   accuracy:0.63    loss:1.71354\r\n",
      "2017-07-18 03:59:44    step:2400   accuracy:0.61    loss:1.89052\r\n",
      "2017-07-18 04:15:06    step:2500   accuracy:0.67    loss:1.40422\r\n",
      "2017-07-18 04:31:00    step:2600   accuracy:0.6    loss:1.55809\r\n",
      "2017-07-18 04:47:28    step:2700   accuracy:0.63    loss:1.59526\r\n",
      "2017-07-18 05:04:32    step:2800   accuracy:0.68    loss:1.18714\r\n",
      "2017-07-18 05:22:14    step:2900   accuracy:0.66    loss:1.6171\r\n",
      "2017-07-18 05:40:47    step:3000   accuracy:0.65    loss:1.39118\r\n",
      "2017-07-18 05:59:45    step:3100   accuracy:0.64    loss:1.61978\r\n",
      "2017-07-18 06:19:20    step:3200   accuracy:0.65    loss:1.34769\r\n",
      "2017-07-18 06:39:27    step:3300   accuracy:0.72    loss:1.10694\r\n",
      "2017-07-18 07:00:11    step:3400   accuracy:0.65    loss:1.33181\r\n",
      "2017-07-18 07:21:27    step:3500   accuracy:0.64    loss:1.3795\r\n",
      "2017-07-18 07:43:18    step:3600   accuracy:0.64    loss:1.76995\r\n",
      "2017-07-18 08:06:13    step:3700   accuracy:0.65    loss:1.33227\r\n",
      "2017-07-18 08:30:45    step:3800   accuracy:0.63    loss:1.32479\r\n",
      "2017-07-18 08:58:11    step:3900   accuracy:0.61    loss:1.39506\r\n",
      "2017-07-18 09:28:58    step:3999   accuracy:0.63    loss:1.39973\r\n"
     ]
    }
   ],
   "source": [
    "!cat validation_log1.log"
   ]
  },
  {
   "cell_type": "code",
   "execution_count": null,
   "metadata": {
    "collapsed": true
   },
   "outputs": [],
   "source": []
  },
  {
   "cell_type": "code",
   "execution_count": null,
   "metadata": {
    "collapsed": true
   },
   "outputs": [],
   "source": []
  }
 ],
 "metadata": {
  "anaconda-cloud": {},
  "kernelspec": {
   "display_name": "Python [default]",
   "language": "python",
   "name": "python2"
  },
  "language_info": {
   "codemirror_mode": {
    "name": "ipython",
    "version": 2
   },
   "file_extension": ".py",
   "mimetype": "text/x-python",
   "name": "python",
   "nbconvert_exporter": "python",
   "pygments_lexer": "ipython2",
   "version": "2.7.12"
  }
 },
 "nbformat": 4,
 "nbformat_minor": 1
}
