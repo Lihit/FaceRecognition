{
 "cells": [
  {
   "cell_type": "code",
   "execution_count": 4,
   "metadata": {
    "collapsed": false
   },
   "outputs": [],
   "source": [
    "import tensorflow as tf\n",
    "import numpy as np\n",
    "import time\n",
    "import datetime\n",
    "import pandas\n",
    "import cv2\n",
    "import os\n",
    "import re\n",
    "import Alexnet\n",
    "import matplotlib.pyplot as plt\n",
    "%matplotlib inline"
   ]
  },
  {
   "cell_type": "code",
   "execution_count": 5,
   "metadata": {
    "collapsed": true
   },
   "outputs": [],
   "source": [
    "def get_nextbatchImage_withoutDict(image_dir,image_names,n_classes,key_classes,step,batch):\n",
    "    images_batch=[]\n",
    "    labels_batch=[]\n",
    "    image_names_len=len(image_names)\n",
    "    index_start=(step*batch)%image_names_len\n",
    "    for i in range(batch):\n",
    "        filename=image_names[(i+index_start)%image_names_len]\n",
    "        if re.search('[jpg|jpeg|JPG|JPEG|png|PNG]',filename):\n",
    "            image_path=os.path.join(image_dir,filename)\n",
    "            image_tmp=cv2.imread(image_path)\n",
    "            image_tmp=image_tmp*(1.0/255)-0.5\n",
    "            image_ret=image_tmp.astype(np.float32)\n",
    "            label_onehot=np.zeros(n_classes,dtype=np.float32)\n",
    "            label_name_index=key_classes.index(filename.split('/')[0])\n",
    "            label_onehot[label_name_index]=1\n",
    "            images_batch.append(image_ret)\n",
    "            labels_batch.append(label_onehot)    \n",
    "    return images_batch,labels_batch "
   ]
  },
  {
   "cell_type": "code",
   "execution_count": 6,
   "metadata": {
    "collapsed": true
   },
   "outputs": [],
   "source": [
    "def get_RandomTestingImage_withoutDict(image_dir,image_names,n_classes,key_classes,random_batch):\n",
    "    images_batch=[]\n",
    "    labels_batch=[]\n",
    "    filenames=[]\n",
    "    image_names_len=len(image_names)\n",
    "    for i in range(random_batch):\n",
    "        filename=image_names[np.random.randint(image_names_len)]\n",
    "        filenames.append(filename)\n",
    "        if re.search('[jpg|jpeg|JPG|JPEG|png|PNG]',filename):\n",
    "            image_path=os.path.join(image_dir,filename)\n",
    "            image_tmp=cv2.imread(image_path)\n",
    "            image_tmp=image_tmp*(1.0/255)-0.5\n",
    "            image_ret=image_tmp.astype(np.float32)\n",
    "            label_onehot=np.zeros(n_classes,dtype=np.float32)\n",
    "            label_name_index=key_classes.index(filename.split('/')[0])\n",
    "            label_onehot[label_name_index]=1\n",
    "            images_batch.append(image_ret)\n",
    "            labels_batch.append(label_onehot)    \n",
    "    return images_batch,labels_batch,filenames"
   ]
  },
  {
   "cell_type": "code",
   "execution_count": 7,
   "metadata": {
    "collapsed": false
   },
   "outputs": [],
   "source": [
    "def get_AllLabel(image_dir,LabelTxtName):\n",
    "    txt_path=os.path.join(image_dir,LabelTxtName)\n",
    "    image_names=[]\n",
    "    if not os.path.exists(txt_path):\n",
    "        print ('func get_nextbatchImage:err.please input correct image_dir')\n",
    "        return     \n",
    "    with open(txt_path,'r') as f:\n",
    "        for line in f:\n",
    "            image_names.append(line.replace('\\n',''))    \n",
    "    return image_names"
   ]
  },
  {
   "cell_type": "code",
   "execution_count": null,
   "metadata": {
    "collapsed": false
   },
   "outputs": [],
   "source": [
    "tf.device(\"/cpu:0\")\n",
    "sess=tf.Session()\n",
    "saver=tf.train.import_meta_graph('./model/mymodel1/AlexnetModel_3999.meta')\n",
    "saver.restore(sess,'./model/mymodel1/AlexnetModel_3999')\n",
    "graph=tf.get_default_graph()\n",
    "print ('sucessfully load the model!')"
   ]
  },
  {
   "cell_type": "code",
   "execution_count": null,
   "metadata": {
    "collapsed": true
   },
   "outputs": [],
   "source": [
    "random_batch=10\n",
    "INPUT_DATA='./data/mydata'\n",
    "testingLabelTxt='testing_labels1.txt'\n",
    "category_txt='sample_category1.txt'\n",
    "testing_image_names=get_AllLabel(INPUT_DATA,testingLabelTxt)\n",
    "key_classes=get_AllLabel(INPUT_DATA,category_txt)\n",
    "n_classes=len(key_classes)\n",
    "Testimages_batch,Testlabels_batch,filenames=get_RandomTestingImage_withoutDict(INPUT_DATA,testing_image_names,n_classes,key_classes,random_batch)\n",
    "test_t0=time.time()\n",
    "images_input=graph.get_tensor_by_name(\"images_input:0\")\n",
    "labels_input=graph.get_tensor_by_name(\"labels_input:0\")\n",
    "evalution=graph.get_tensor_by_name(\"evalution:0\")\n",
    "Maxpro=graph.get_tensor_by_name(\"Maxpro:0\")\n",
    "Maxpro_index=graph.get_tensor_by_name(\"Maxpro_index:0\")\n",
    "feed_dict={images_input:Testimages_batch,labels_input:Testlabels_batch}\n",
    "print '===================== Start Testing ====================>'\n",
    "with tf.device(\"/cpu:0\"):\n",
    "    test_evalution_np,testMaxpro,testMaxpro_index=sess.run([evalution,Maxpro,Maxpro_index],feed_dict)\n",
    "for i in range(len(testMaxpro_index)):\n",
    "    TrueLabel=filenames[i].split('/')[0]\n",
    "    img=cv2.imread(os.path.join(INPUT_DATA,filenames[i]))\n",
    "    plt.imshow(img)\n",
    "    plt.show()\n",
    "    PredictLabel=key_classes[testMaxpro_index[i]]\n",
    "    print 'No.%d: ImageName:%s TrueLabel:%s PredictLabel:%s PredictPro:%0.2f%% Result:%s \\n'%(i+1,filenames[i],TrueLabel,PredictLabel,testMaxpro[i]*100,str(PredictLabel==TrueLabel))\n",
    "\n",
    "print ('Testing on random sample:%d =====>Accuracy:%0.2f%%'%(random_batch,test_evalution_np*100))    \n",
    "print '===================== Finish Testing ====================>'\n",
    "print 'Testing Time is : %0.2fs\\n'%(time.time()-test_t0)"
   ]
  },
  {
   "cell_type": "code",
   "execution_count": null,
   "metadata": {
    "collapsed": true
   },
   "outputs": [],
   "source": []
  }
 ],
 "metadata": {
  "anaconda-cloud": {},
  "kernelspec": {
   "display_name": "Python 3",
   "language": "python",
   "name": "python3"
  },
  "language_info": {
   "codemirror_mode": {
    "name": "ipython",
    "version": 3
   },
   "file_extension": ".py",
   "mimetype": "text/x-python",
   "name": "python",
   "nbconvert_exporter": "python",
   "pygments_lexer": "ipython3",
   "version": "3.5.1"
  }
 },
 "nbformat": 4,
 "nbformat_minor": 1
}
